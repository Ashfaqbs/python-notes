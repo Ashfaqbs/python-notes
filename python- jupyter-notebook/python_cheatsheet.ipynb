{
  "cells": [
    {
      "cell_type": "code",
      "execution_count": 2,
      "metadata": {
        "colab": {
          "base_uri": "https://localhost:8080/"
        },
        "id": "Ttz6nu3euzlV",
        "outputId": "77a1ef44-2d5a-4a3e-d7cb-684a821c5d4b"
      },
      "outputs": [
        {
          "name": "stdout",
          "output_type": "stream",
          "text": [
            "Integer: 10\n",
            "Float: 3.14\n",
            "String: Python\n",
            "Boolean: True\n",
            "NoneType: None\n"
          ]
        }
      ],
      "source": [
        "# Integer\n",
        "x = 10\n",
        "print(\"Integer:\", x)\n",
        "\n",
        "# Float\n",
        "pi = 3.14\n",
        "print(\"Float:\", pi)\n",
        "\n",
        "# String\n",
        "name = \"Python\"\n",
        "print(\"String:\", name)\n",
        "\n",
        "# Boolean\n",
        "is_valid = True\n",
        "print(\"Boolean:\", is_valid)\n",
        "\n",
        "# None (similar to null in Java)\n",
        "empty = None\n",
        "print(\"NoneType:\", empty)\n"
      ]
    },
    {
      "cell_type": "code",
      "execution_count": 4,
      "metadata": {
        "colab": {
          "base_uri": "https://localhost:8080/"
        },
        "id": "CUqq2xqavOSE",
        "outputId": "c5213882-5c7f-48ca-8c23-10ea89ea6848"
      },
      "outputs": [
        {
          "name": "stdout",
          "output_type": "stream",
          "text": [
            "Hello from Python!\n",
            "Addition result: 15\n",
            "Multiplication result: 12\n"
          ]
        }
      ],
      "source": [
        "# In Python, you define a function using def. Here's a basic demo of:\n",
        "\n",
        "# A function with no return\n",
        "\n",
        "# A function with a return value\n",
        "\n",
        "# A function with parameters and type hints (optional but helpful)\n",
        "\n",
        "\n",
        "# Function with no parameters and no return\n",
        "def greet():\n",
        "    print(\"Hello from Python!\")\n",
        "\n",
        "greet()\n",
        "\n",
        "# Function with parameters and return\n",
        "def add(a, b):\n",
        "    return a + b\n",
        "\n",
        "result = add(10, 5)\n",
        "print(\"Addition result:\", result)\n",
        "\n",
        "# Function with type hints\n",
        "def multiply(x: int, y: int) -> int:\n",
        "    return x * y\n",
        "\n",
        "print(\"Multiplication result:\", multiply(3, 4))\n"
      ]
    },
    {
      "cell_type": "code",
      "execution_count": 6,
      "metadata": {
        "colab": {
          "base_uri": "https://localhost:8080/"
        },
        "id": "9KlGdzUPvi4c",
        "outputId": "67976982-87fd-4cf0-b76a-902e258b86fb"
      },
      "outputs": [
        {
          "name": "stdout",
          "output_type": "stream",
          "text": [
            "For loop i = 0\n",
            "For loop i = 1\n",
            "For loop i = 2\n",
            "For loop i = 3\n",
            "For loop i = 4\n",
            "---\n",
            "While loop count = 0\n",
            "While loop count = 1\n",
            "While loop count = 2\n",
            "While loop count = 3\n",
            "While loop count = 4\n",
            "---\n",
            "Break loop i = 0\n",
            "Break loop i = 1\n",
            "Break loop i = 2\n",
            "---\n",
            "Continue loop i = 0\n",
            "Continue loop i = 1\n",
            "Continue loop i = 3\n",
            "Continue loop i = 4\n",
            "---\n",
            "Fruit: apple\n",
            "Fruit: banana\n",
            "Fruit: cherry\n"
          ]
        }
      ],
      "source": [
        "#  Step 3: Loops in Python\n",
        "\n",
        "# for loop\n",
        "\n",
        "# while loop\n",
        "\n",
        "# break and continue\n",
        "\n",
        "# Looping over collections\n",
        "\n",
        "# For loop (0 to 4)\n",
        "for i in range(5):\n",
        "    print(\"For loop i =\", i)\n",
        "\n",
        "print(\"---\")\n",
        "\n",
        "# While loop\n",
        "count = 0\n",
        "while count < 5:\n",
        "    print(\"While loop count =\", count)\n",
        "    count += 1\n",
        "\n",
        "print(\"---\")\n",
        "\n",
        "# Break example\n",
        "for i in range(10):\n",
        "    if i == 3:\n",
        "        break\n",
        "    print(\"Break loop i =\", i)\n",
        "\n",
        "print(\"---\")\n",
        "\n",
        "# Continue example\n",
        "for i in range(5):\n",
        "    if i == 2:\n",
        "        continue\n",
        "    print(\"Continue loop i =\", i)\n",
        "\n",
        "print(\"---\")\n",
        "\n",
        "# Looping through a list\n",
        "fruits = [\"apple\", \"banana\", \"cherry\"]\n",
        "for fruit in fruits:\n",
        "    print(\"Fruit:\", fruit)\n"
      ]
    },
    {
      "cell_type": "code",
      "execution_count": 8,
      "metadata": {
        "colab": {
          "base_uri": "https://localhost:8080/"
        },
        "id": "zLmOFPEQvs6Y",
        "outputId": "4f4eb77d-a089-4cfe-edf0-0582badf6c6a"
      },
      "outputs": [
        {
          "name": "stdout",
          "output_type": "stream",
          "text": [
            "Initial List: [10, 20, 30]\n",
            "After Append: [10, 20, 30, 40]\n",
            "After Insert at index 1: [10, 15, 20, 30, 40]\n",
            "After Removing 20: [10, 15, 30, 40]\n",
            "After Updating index 0: [100, 15, 30, 40]\n",
            "List item: 100\n",
            "List item: 15\n",
            "List item: 30\n",
            "List item: 40\n"
          ]
        }
      ],
      "source": [
        "#  Step 4: Python Collections\n",
        "\n",
        "# list (like Java’s ArrayList)\n",
        "\n",
        "# set\n",
        "\n",
        "# dict (like Java’s Map)\n",
        "\n",
        "# stack & queue using list and collections module\n",
        "\n",
        "# List - ordered, allows duplicates\n",
        "my_list = [10, 20, 30]\n",
        "print(\"Initial List:\", my_list)\n",
        "\n",
        "# Add\n",
        "my_list.append(40)\n",
        "print(\"After Append:\", my_list)\n",
        "\n",
        "# Insert\n",
        "my_list.insert(1, 15)\n",
        "print(\"After Insert at index 1:\", my_list)\n",
        "\n",
        "# Remove\n",
        "my_list.remove(20)\n",
        "print(\"After Removing 20:\", my_list)\n",
        "\n",
        "# Update\n",
        "my_list[0] = 100\n",
        "print(\"After Updating index 0:\", my_list)\n",
        "\n",
        "# Iterate\n",
        "for item in my_list:\n",
        "    print(\"List item:\", item)\n"
      ]
    },
    {
      "cell_type": "code",
      "execution_count": 10,
      "metadata": {
        "colab": {
          "base_uri": "https://localhost:8080/"
        },
        "id": "aVtOHFO8v3uu",
        "outputId": "b3452ed1-bb3c-41e3-d864-461e18d06042"
      },
      "outputs": [
        {
          "name": "stdout",
          "output_type": "stream",
          "text": [
            "Initial Set: {1, 2, 3}\n",
            "After Add: {1, 2, 3, 4}\n",
            "After Remove: {1, 3, 4}\n",
            "Is 3 in set? True\n",
            "Set item: 1\n",
            "Set item: 3\n",
            "Set item: 4\n"
          ]
        }
      ],
      "source": [
        "# Set - unordered, no duplicates\n",
        "my_set = {1, 2, 3}\n",
        "print(\"Initial Set:\", my_set)\n",
        "\n",
        "# Add\n",
        "my_set.add(4)\n",
        "print(\"After Add:\", my_set)\n",
        "\n",
        "# Remove\n",
        "my_set.remove(2)\n",
        "print(\"After Remove:\", my_set)\n",
        "\n",
        "# Check existence\n",
        "print(\"Is 3 in set?\", 3 in my_set)\n",
        "\n",
        "# Iterate\n",
        "for item in my_set:\n",
        "    print(\"Set item:\", item)\n",
        "\n"
      ]
    },
    {
      "cell_type": "code",
      "execution_count": 12,
      "metadata": {
        "colab": {
          "base_uri": "https://localhost:8080/"
        },
        "id": "PvXvh-N8v8Eq",
        "outputId": "7903f357-315f-4b63-ee44-7737822f0dfa"
      },
      "outputs": [
        {
          "name": "stdout",
          "output_type": "stream",
          "text": [
            "Initial Dict: {'a': 1, 'b': 2}\n",
            "After Add/Update: {'a': 100, 'b': 2, 'c': 3}\n",
            "After Delete: {'a': 100, 'c': 3}\n",
            "Key: a, Value: 100\n",
            "Key: c, Value: 3\n"
          ]
        }
      ],
      "source": [
        "# Dict - key-value pairs\n",
        "my_dict = {\"a\": 1, \"b\": 2}\n",
        "print(\"Initial Dict:\", my_dict)\n",
        "\n",
        "# Add / Update\n",
        "my_dict[\"c\"] = 3\n",
        "my_dict[\"a\"] = 100\n",
        "print(\"After Add/Update:\", my_dict)\n",
        "\n",
        "# Remove\n",
        "del my_dict[\"b\"]\n",
        "print(\"After Delete:\", my_dict)\n",
        "\n",
        "# Iterate\n",
        "for key, value in my_dict.items():\n",
        "    print(f\"Key: {key}, Value: {value}\")\n"
      ]
    },
    {
      "cell_type": "code",
      "execution_count": 13,
      "metadata": {
        "colab": {
          "base_uri": "https://localhost:8080/"
        },
        "id": "IgwlTL7hwBLf",
        "outputId": "98dfd633-dee9-4730-e766-383b46106c61"
      },
      "outputs": [
        {
          "name": "stdout",
          "output_type": "stream",
          "text": [
            "Stack after push: [1, 2, 3]\n",
            "Pop: 3\n",
            "Stack now: [1, 2]\n"
          ]
        }
      ],
      "source": [
        "#  Stack (LIFO using list)\n",
        "stack = []\n",
        "stack.append(1)\n",
        "stack.append(2)\n",
        "stack.append(3)\n",
        "print(\"Stack after push:\", stack)\n",
        "\n",
        "# Pop\n",
        "print(\"Pop:\", stack.pop())\n",
        "print(\"Stack now:\", stack)\n"
      ]
    },
    {
      "cell_type": "code",
      "execution_count": 15,
      "metadata": {
        "colab": {
          "base_uri": "https://localhost:8080/"
        },
        "id": "kWjwOqSawBOv",
        "outputId": "cf53e6b8-3d4a-4441-c843-ac7e52781d92"
      },
      "outputs": [
        {
          "name": "stdout",
          "output_type": "stream",
          "text": [
            "Queue after enqueue: deque([1, 2, 3])\n",
            "Dequeue: 1\n",
            "Queue now: deque([2, 3])\n"
          ]
        }
      ],
      "source": [
        "# Queue (FIFO using collections.deque)\n",
        "\n",
        "from collections import deque\n",
        "\n",
        "queue = deque()\n",
        "queue.append(1)\n",
        "queue.append(2)\n",
        "queue.append(3)\n",
        "print(\"Queue after enqueue:\", queue)\n",
        "\n",
        "# Dequeue\n",
        "print(\"Dequeue:\", queue.popleft())\n",
        "print(\"Queue now:\", queue)\n"
      ]
    },
    {
      "cell_type": "code",
      "execution_count": 16,
      "metadata": {
        "id": "dHRd5vsAwI-Z"
      },
      "outputs": [],
      "source": [
        "#  Step 5: Classes in Python\n",
        "\n",
        "\n",
        "# Class with constructor\n",
        "\n",
        "# Instance (object) variables\n",
        "\n",
        "# Static (class) variables\n",
        "\n",
        "# Method using self and static method using @staticmethod"
      ]
    },
    {
      "cell_type": "code",
      "execution_count": 18,
      "metadata": {
        "colab": {
          "base_uri": "https://localhost:8080/"
        },
        "id": "jL_B_q_CwQBq",
        "outputId": "e93b7d23-e999-4131-97b2-da96dfcf9073"
      },
      "outputs": [
        {
          "name": "stdout",
          "output_type": "stream",
          "text": [
            "My name is Alice and I am 30 years old.\n",
            "My name is Bob and I am 25 years old.\n",
            "Species (via class): Human\n",
            "Species (via object): Human\n",
            "All persons are humans.\n"
          ]
        }
      ],
      "source": [
        "# Basic Class with Instance & Static Variables\n",
        "\n",
        "class Person:\n",
        "    # Static (class) variable\n",
        "    species = \"Human\"\n",
        "\n",
        "    def __init__(self, name, age):\n",
        "        # Instance (object) variables\n",
        "        self.name = name\n",
        "        self.age = age\n",
        "\n",
        "    # Instance method\n",
        "    def introduce(self):\n",
        "        print(f\"My name is {self.name} and I am {self.age} years old.\")\n",
        "\n",
        "    # Static method\n",
        "    @staticmethod\n",
        "    def species_info():\n",
        "        print(\"All persons are humans.\")\n",
        "\n",
        "\n",
        "# Create objects\n",
        "p1 = Person(\"Alice\", 30)\n",
        "p2 = Person(\"Bob\", 25)\n",
        "\n",
        "# Access instance variables\n",
        "p1.introduce()\n",
        "p2.introduce()\n",
        "\n",
        "# Access static variable\n",
        "print(\"Species (via class):\", Person.species)\n",
        "print(\"Species (via object):\", p1.species)\n",
        "\n",
        "# Call static method\n",
        "Person.species_info()\n"
      ]
    },
    {
      "cell_type": "code",
      "execution_count": 19,
      "metadata": {
        "colab": {
          "base_uri": "https://localhost:8080/"
        },
        "id": "QMS-_OarwcML",
        "outputId": "f1725872-4b26-4c9c-9eb9-f9869fafd58b"
      },
      "outputs": [
        {
          "name": "stdout",
          "output_type": "stream",
          "text": [
            "Updated species: Superhuman\n"
          ]
        }
      ],
      "source": [
        "# Update Static Variable\n",
        "\n",
        "Person.species = \"Superhuman\"\n",
        "print(\"Updated species:\", Person.species)\n"
      ]
    },
    {
      "cell_type": "code",
      "execution_count": 1,
      "metadata": {},
      "outputs": [
        {
          "name": "stdout",
          "output_type": "stream",
          "text": [
            "Square root of 16: 4.0\n",
            "Value of pi: 3.141592653589793\n",
            "Factorial of 5: 120\n"
          ]
        }
      ],
      "source": [
        "    # Understanding Imports in Python\n",
        "    \n",
        "    # In Python, import is used to reuse code from other files (modules), standard libraries, or packages you install via pip.\n",
        "    \n",
        "    \n",
        "    #  Import Standard Library\n",
        "\n",
        "import math\n",
        "\n",
        "print(\"Square root of 16:\", math.sqrt(16))\n",
        "print(\"Value of pi:\", math.pi)\n",
        "print(\"Factorial of 5:\", math.factorial(5))\n"
      ]
    },
    {
      "cell_type": "code",
      "execution_count": 2,
      "metadata": {},
      "outputs": [
        {
          "name": "stdout",
          "output_type": "stream",
          "text": [
            "2^3 = 8.0\n",
            "Pi = 3.141592653589793\n"
          ]
        }
      ],
      "source": [
        "# Import Specific Functions\n",
        "\n",
        "from math import pow, pi\n",
        "\n",
        "print(\"2^3 =\", pow(2, 3))\n",
        "print(\"Pi =\", pi)\n"
      ]
    },
    {
      "cell_type": "code",
      "execution_count": null,
      "metadata": {},
      "outputs": [],
      "source": [
        "# Create and Import Your Own Module\n",
        "# In Jupyter, open the same folder where your notebook is.\n",
        "\n",
        "# Create a new Python file: my_utils.py with this code:\n",
        "\n",
        "# my_utils.py\n",
        "def greet(name):\n",
        "    return f\"Hello, {name}!\"\n",
        "\n",
        "def square(x):\n",
        "    return x * x\n",
        "\n",
        "# Then in your notebook, import and use it:\n",
        "\n",
        "import my_utils\n",
        "\n",
        "print(my_utils.greet(\"Coder\"))\n",
        "print(\"Square of 4:\", my_utils.square(4))\n",
        "\n",
        "\n",
        "\n",
        "\n",
        "\n"
      ]
    }
  ],
  "metadata": {
    "colab": {
      "provenance": []
    },
    "kernelspec": {
      "display_name": "base",
      "language": "python",
      "name": "python3"
    },
    "language_info": {
      "codemirror_mode": {
        "name": "ipython",
        "version": 3
      },
      "file_extension": ".py",
      "mimetype": "text/x-python",
      "name": "python",
      "nbconvert_exporter": "python",
      "pygments_lexer": "ipython3",
      "version": "3.12.7"
    }
  },
  "nbformat": 4,
  "nbformat_minor": 0
}
